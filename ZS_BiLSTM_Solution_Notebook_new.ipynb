{
  "nbformat": 4,
  "nbformat_minor": 0,
  "metadata": {
    "kernelspec": {
      "display_name": "Python 3",
      "language": "python",
      "name": "python3"
    },
    "language_info": {
      "codemirror_mode": {
        "name": "ipython",
        "version": 3
      },
      "file_extension": ".py",
      "mimetype": "text/x-python",
      "name": "python",
      "nbconvert_exporter": "python",
      "pygments_lexer": "ipython3",
      "version": "3.6.5"
    },
    "colab": {
      "name": "ZS_BiLSTM_Solution_Notebook.ipynb",
      "provenance": [],
      "collapsed_sections": []
    }
  },
  "cells": [
    {
      "cell_type": "code",
      "metadata": {
        "id": "bRrbydTmD2bd"
      },
      "source": [
        "# Data Analysis Libraries\n",
        "import numpy as np\n",
        "import pandas as pd\n",
        "import matplotlib.pyplot as plt\n",
        "\n",
        "# For NLP Tasks\n",
        "import nltk\n",
        "from nltk.corpus import stopwords\n",
        "from nltk.stem import WordNetLemmatizer\n",
        "import re\n",
        "\n",
        "#  Library for Oversampling\n",
        "import imblearn\n",
        "from imblearn.over_sampling import RandomOverSampler\n",
        "\n",
        "# For Building Models\n",
        "import tensorflow as tf\n",
        "from tensorflow.keras.layers import LSTM,Embedding,Dense,Bidirectional\n",
        "from tensorflow.keras.models import Sequential\n",
        "\n",
        "# For Tokenizing Texts\n",
        "from tensorflow.keras.preprocessing.text import Tokenizer\n",
        "from tensorflow.keras.preprocessing.sequence import pad_sequences\n",
        "\n",
        "# For suppresing warnings\n",
        "import warnings\n",
        "warnings.filterwarnings('ignore')\n",
        "\n",
        "tf.random.set_seed(1)\n",
        "np.random.seed(1)"
      ],
      "execution_count": 28,
      "outputs": []
    },
    {
      "cell_type": "code",
      "metadata": {
        "colab": {
          "base_uri": "https://localhost:8080/"
        },
        "id": "Ey3w4fm5mFma",
        "outputId": "9845c509-d08f-4aaf-a8c5-3a5a3232afc7"
      },
      "source": [
        "nltk.download('wordnet')\n",
        "nltk.download('stopwords')"
      ],
      "execution_count": 2,
      "outputs": [
        {
          "output_type": "stream",
          "text": [
            "[nltk_data] Downloading package wordnet to /root/nltk_data...\n",
            "[nltk_data]   Unzipping corpora/wordnet.zip.\n",
            "[nltk_data] Downloading package stopwords to /root/nltk_data...\n",
            "[nltk_data]   Unzipping corpora/stopwords.zip.\n"
          ],
          "name": "stdout"
        },
        {
          "output_type": "execute_result",
          "data": {
            "text/plain": [
              "True"
            ]
          },
          "metadata": {
            "tags": []
          },
          "execution_count": 2
        }
      ]
    },
    {
      "cell_type": "markdown",
      "metadata": {
        "id": "7QwcqiJ0e6t6"
      },
      "source": [
        "**Mounting Drive**"
      ]
    },
    {
      "cell_type": "code",
      "metadata": {
        "colab": {
          "base_uri": "https://localhost:8080/"
        },
        "id": "HbkXB3ggFLfw",
        "outputId": "736e5498-0cf8-4f1f-ff66-3efa82d0b81c"
      },
      "source": [
        "from google.colab import drive\n",
        "drive.mount('/content/drive/')\n",
        "# !cd 'drive/MyDrive/ZS_Data_Science_Challenge'"
      ],
      "execution_count": 3,
      "outputs": [
        {
          "output_type": "stream",
          "text": [
            "Mounted at /content/drive/\n"
          ],
          "name": "stdout"
        }
      ]
    },
    {
      "cell_type": "markdown",
      "metadata": {
        "id": "aPQwqXlRfg2Y"
      },
      "source": [
        "**Relevant Training Data**"
      ]
    },
    {
      "cell_type": "code",
      "metadata": {
        "id": "zhJjNASkLkBK"
      },
      "source": [
        "def clean_text(text):\n",
        "  '''\n",
        "  Cleaning Data to feed as an input to the model\n",
        "  \n",
        "  '''\n",
        "  text = text.lower()\n",
        "  # text = re.sub('[^a-zA-Z]',' ',text)\n",
        "  text = re.sub(r'[^\\w\\s]', '', text)\n",
        "  text_list = text.split(' ')\n",
        "\n",
        "  #StopWord Removal\n",
        "  stopwords_list = stopwords.words('english')\n",
        "  clean_text_list = [word for word in text_list if not word in stopwords_list]\n",
        "  \n",
        "  # Lemmatization\n",
        "  lemmatizer = WordNetLemmatizer()\n",
        "  clean_text_list = [lemmatizer.lemmatize(word) for word in clean_text_list]\n",
        "\n",
        "  clean_text = ' '.join(clean_text_list)\n",
        "  return clean_text"
      ],
      "execution_count": 4,
      "outputs": []
    },
    {
      "cell_type": "code",
      "metadata": {
        "id": "6py66Txl0IZu"
      },
      "source": [
        "def tokenize_text(text_list,oov_token='<OOV>'):\n",
        "  tokenizer = Tokenizer(oov_token=oov_token)\n",
        "  tokenizer.fit_on_texts(text_list)\n",
        "  return tokenizer"
      ],
      "execution_count": 5,
      "outputs": []
    },
    {
      "cell_type": "code",
      "metadata": {
        "id": "V6gkdGiIvOPT"
      },
      "source": [
        "def train_data_prep(df,input_col,target_col,input_len,oversample_flag=True):\n",
        "  text_list = list(map(str,df[input_col].values))\n",
        "  tokenizer = tokenize_text(text_list)\n",
        "  vocab_len = len(tokenizer.word_index)\n",
        "  sequences = tokenizer.texts_to_sequences(text_list)\n",
        "  X = pad_sequences(sequences, padding='post',truncating='post',maxlen=input_len)\n",
        "  y = df[target_col].values\n",
        "  if oversample_flag:\n",
        "    ros = RandomOverSampler()\n",
        "    Xov,yov = ros.fit_resample(X,y)\n",
        "    return Xov,yov,tokenizer\n",
        "  return X,y,tokenizer"
      ],
      "execution_count": 6,
      "outputs": []
    },
    {
      "cell_type": "code",
      "metadata": {
        "id": "3Clzf2LeSxyu"
      },
      "source": [
        "def model_architecture_pretrained_embedding(vocab_size,d_model,input_len,embedding_matrix):\n",
        "  model = Sequential()\n",
        "  model.add(Embedding(input_dim= vocab_size,output_dim=100,input_length=input_len,embeddings_initializer=tf.keras.initializers.Constant(embedding_matrix),trainable=False))\n",
        "  model.add(Bidirectional(LSTM(d_model)))\n",
        "  model.add(Dense(1,activation='sigmoid'))\n",
        "  model.compile(loss='binary_crossentropy',optimizer='adam',metrics='accuracy')\n",
        "  return model"
      ],
      "execution_count": 7,
      "outputs": []
    },
    {
      "cell_type": "code",
      "metadata": {
        "id": "KZg0zXDvS2gj"
      },
      "source": [
        "def create_embedding_matrix(path_to_glove_file,tokenizer,embedding_dim):\n",
        "  embeddings_index = {}\n",
        "  with open(path_to_glove_file) as f:\n",
        "      for line in f:\n",
        "          word, coefs = line.split(maxsplit=1)\n",
        "          coefs = np.fromstring(coefs, \"f\", sep=\" \")\n",
        "          embeddings_index[word] = coefs\n",
        "\n",
        "  print(\"Found %s word vectors.\" % len(embeddings_index))\n",
        "  num_tokens = len(tokenizer.word_index) + 1\n",
        "  hits = 0\n",
        "  misses = 0\n",
        "\n",
        "  # Prepare embedding matrix\n",
        "  embedding_matrix = np.zeros((num_tokens, embedding_dim))\n",
        "  for word, i in tokenizer.word_index.items():\n",
        "      embedding_vector = embeddings_index.get(word)\n",
        "      if embedding_vector is not None:\n",
        "          # Words not found in embedding index will be all-zeros.\n",
        "          # This includes the representation for \"padding\" and \"OOV\"\n",
        "          embedding_matrix[i] = embedding_vector\n",
        "          hits += 1\n",
        "      else:\n",
        "          misses += 1\n",
        "  print(\"Converted %d words (%d misses)\" % (hits, misses))\n",
        "  return embedding_matrix"
      ],
      "execution_count": 8,
      "outputs": []
    },
    {
      "cell_type": "code",
      "metadata": {
        "id": "DD2QK9icU4cT"
      },
      "source": [
        "def train_model_pretrained(df,input_col,target_col,d_model,path_to_glove_file,embedding_dim,input_len=-1,epochs = 50,batch_size=32,oversample_flag=True):\n",
        "  if input_len==-1:\n",
        "    df['len'] = df[input_col].apply(lambda x: len(x.split(' ')))\n",
        "    input_len = df['len'].max()\n",
        "  X,y,tokenizer = train_data_prep(df,input_col,target_col,input_len,oversample_flag=True)\n",
        "  embedding_matrix = create_embedding_matrix(path_to_glove_file,tokenizer,embedding_dim)\n",
        "  vocab_len = len(tokenizer.word_index)\n",
        "  model = model_architecture_pretrained_embedding(vocab_len+1,d_model,input_len,embedding_matrix)\n",
        "  history = model.fit(X,y,batch_size=batch_size,epochs=epochs,validation_split=0.05,verbose=1)\n",
        "  return history,model,tokenizer,input_len"
      ],
      "execution_count": 9,
      "outputs": []
    },
    {
      "cell_type": "code",
      "metadata": {
        "id": "MsSMnS96eVTQ"
      },
      "source": [
        "def generate_prediction(text,model,tokenizer,input_len):\n",
        "  text_clean = clean_text(text)\n",
        "  seq = tokenizer.texts_to_sequences([text_clean])\n",
        "  xtest = pad_sequences(seq, padding='post',truncating='post',maxlen=input_len)\n",
        "  ypred = model.predict(xtest)\n",
        "  return ypred"
      ],
      "execution_count": 10,
      "outputs": []
    },
    {
      "cell_type": "code",
      "metadata": {
        "id": "QP6d3gBWeboe"
      },
      "source": [
        "def generate_prediction_from_list(text_list,model,tokenizer,input_len):\n",
        "  text_clean_list = []\n",
        "  for text in text_list:\n",
        "    text_clean = clean_text(text)\n",
        "    text_clean_list.append(text_clean)\n",
        "  seq = tokenizer.texts_to_sequences(text_clean_list)\n",
        "  xtest = pad_sequences(seq, padding='post',truncating='post',maxlen=input_len)\n",
        "  ypred = model.predict(xtest)\n",
        "  ypred_one_hot = [1 if i>0.5 else 0 for i in ypred]\n",
        "  return ypred_one_hot"
      ],
      "execution_count": 11,
      "outputs": []
    },
    {
      "cell_type": "markdown",
      "metadata": {
        "id": "fhQiS-ZUfArR"
      },
      "source": [
        "**Loading And Analysing Training Data**"
      ]
    },
    {
      "cell_type": "code",
      "metadata": {
        "id": "s69VOxMED2bl"
      },
      "source": [
        "train_path = 'drive/MyDrive/ZS_Data_Science_Challenge/dataset/train.csv'\n",
        "df = pd.read_csv(train_path,encoding='latin')"
      ],
      "execution_count": 12,
      "outputs": []
    },
    {
      "cell_type": "code",
      "metadata": {
        "scrolled": true,
        "colab": {
          "base_uri": "https://localhost:8080/"
        },
        "id": "u8sd9luwD2bm",
        "outputId": "dbe7dc91-f230-405b-d6f2-ccde831ee963"
      },
      "source": [
        "df.isnull().sum()"
      ],
      "execution_count": 13,
      "outputs": [
        {
          "output_type": "execute_result",
          "data": {
            "text/plain": [
              "Source               0\n",
              "Host                59\n",
              "Link                 0\n",
              "Date(ET)             0\n",
              "Time(ET)             0\n",
              "time(GMT)          161\n",
              "Title              216\n",
              "TRANS_CONV_TEXT      1\n",
              "Patient_Tag          0\n",
              "dtype: int64"
            ]
          },
          "metadata": {
            "tags": []
          },
          "execution_count": 13
        }
      ]
    },
    {
      "cell_type": "code",
      "metadata": {
        "colab": {
          "base_uri": "https://localhost:8080/"
        },
        "id": "VpQUc8A8D2bn",
        "outputId": "de8849dd-a67a-4c3f-ea44-890b6e8fe32c"
      },
      "source": [
        "df.shape"
      ],
      "execution_count": 14,
      "outputs": [
        {
          "output_type": "execute_result",
          "data": {
            "text/plain": [
              "(1157, 9)"
            ]
          },
          "metadata": {
            "tags": []
          },
          "execution_count": 14
        }
      ]
    },
    {
      "cell_type": "code",
      "metadata": {
        "colab": {
          "base_uri": "https://localhost:8080/"
        },
        "id": "0vtb0B9P-olc",
        "outputId": "f7dd9165-ac14-4e4f-911a-a6f66f589a19"
      },
      "source": [
        "index_with_nans = df[df.isna().any(axis=1)].index\n",
        "df.drop(index_with_nans,axis=0,inplace=True)\n",
        "target_col = 'Patient_Tag'\n",
        "df.reset_index(drop=True,inplace=True)\n",
        "df[target_col].value_counts()"
      ],
      "execution_count": 15,
      "outputs": [
        {
          "output_type": "execute_result",
          "data": {
            "text/plain": [
              "0    801\n",
              "1    125\n",
              "Name: Patient_Tag, dtype: int64"
            ]
          },
          "metadata": {
            "tags": []
          },
          "execution_count": 15
        }
      ]
    },
    {
      "cell_type": "markdown",
      "metadata": {
        "id": "h7hg_PqzNj6z"
      },
      "source": [
        "**Building and training a model**"
      ]
    },
    {
      "cell_type": "code",
      "metadata": {
        "id": "h7TUItyc8MB9"
      },
      "source": [
        "# input_col = 'TRANS_CONV_TEXT'\n",
        "# target_col = 'Patient_Tag'\n",
        "# d_model = 30\n",
        "# df['text'] = df[input_col].apply(lambda x:clean_text(x))\n",
        "# history,model,tokenizer,input_len = train_model(df,'text',target_col,d_model,epochs=5)"
      ],
      "execution_count": 16,
      "outputs": []
    },
    {
      "cell_type": "code",
      "metadata": {
        "id": "BT6FbnrLgpiX",
        "colab": {
          "base_uri": "https://localhost:8080/"
        },
        "outputId": "8c0da0d2-6c8e-4202-919f-f2a3f9ee3bb3"
      },
      "source": [
        "!wget http://nlp.stanford.edu/data/glove.6B.zip\n",
        "!unzip -q glove.6B.zip"
      ],
      "execution_count": 17,
      "outputs": [
        {
          "output_type": "stream",
          "text": [
            "--2021-03-22 14:38:37--  http://nlp.stanford.edu/data/glove.6B.zip\n",
            "Resolving nlp.stanford.edu (nlp.stanford.edu)... 171.64.67.140\n",
            "Connecting to nlp.stanford.edu (nlp.stanford.edu)|171.64.67.140|:80... connected.\n",
            "HTTP request sent, awaiting response... 302 Found\n",
            "Location: https://nlp.stanford.edu/data/glove.6B.zip [following]\n",
            "--2021-03-22 14:38:38--  https://nlp.stanford.edu/data/glove.6B.zip\n",
            "Connecting to nlp.stanford.edu (nlp.stanford.edu)|171.64.67.140|:443... connected.\n",
            "HTTP request sent, awaiting response... 301 Moved Permanently\n",
            "Location: http://downloads.cs.stanford.edu/nlp/data/glove.6B.zip [following]\n",
            "--2021-03-22 14:38:38--  http://downloads.cs.stanford.edu/nlp/data/glove.6B.zip\n",
            "Resolving downloads.cs.stanford.edu (downloads.cs.stanford.edu)... 171.64.64.22\n",
            "Connecting to downloads.cs.stanford.edu (downloads.cs.stanford.edu)|171.64.64.22|:80... connected.\n",
            "HTTP request sent, awaiting response... 200 OK\n",
            "Length: 862182613 (822M) [application/zip]\n",
            "Saving to: ‘glove.6B.zip’\n",
            "\n",
            "glove.6B.zip        100%[===================>] 822.24M  5.05MB/s    in 2m 40s  \n",
            "\n",
            "2021-03-22 14:41:19 (5.12 MB/s) - ‘glove.6B.zip’ saved [862182613/862182613]\n",
            "\n"
          ],
          "name": "stdout"
        }
      ]
    },
    {
      "cell_type": "code",
      "metadata": {
        "colab": {
          "base_uri": "https://localhost:8080/",
          "height": 282
        },
        "id": "Kio4RJu361A3",
        "outputId": "cc9e1a09-d5f8-4356-85ab-2cebecf5d19f"
      },
      "source": [
        "path_to_glove_file = \"glove.6B.100d.txt\"\n",
        "embedding_dim = 100\n",
        "input_col = 'TRANS_CONV_TEXT'\n",
        "target_col = 'Patient_Tag'\n",
        "d_model = 100\n",
        "input_len= 300\n",
        "df['text'] = df[input_col].apply(lambda x:clean_text(x))\n",
        "df['len'] = df[input_col].apply(lambda x:len(x.split(' ')))\n",
        "df['len'].hist()"
      ],
      "execution_count": 19,
      "outputs": [
        {
          "output_type": "execute_result",
          "data": {
            "text/plain": [
              "<matplotlib.axes._subplots.AxesSubplot at 0x7f60b8f6de50>"
            ]
          },
          "metadata": {
            "tags": []
          },
          "execution_count": 19
        },
        {
          "output_type": "display_data",
          "data": {
            "image/png": "[encoded data removed]",
            "text/plain": [
              "<Figure size 432x288 with 1 Axes>"
            ]
          },
          "metadata": {
            "tags": [],
            "needs_background": "light"
          }
        }
      ]
    },
    {
      "cell_type": "code",
      "metadata": {
        "colab": {
          "base_uri": "https://localhost:8080/"
        },
        "id": "5QkxYUtHgFVO",
        "outputId": "7bb92dba-54a5-4d7f-932f-26d249181700"
      },
      "source": [
        "# Training A BiLSTM Model\n",
        "history,model,tokenizer,input_len = train_model_pretrained(df,'text',target_col,d_model,path_to_glove_file,embedding_dim,input_len,epochs=25)"
      ],
      "execution_count": 21,
      "outputs": [
        {
          "output_type": "stream",
          "text": [
            "Found 400000 word vectors.\n",
            "Converted 16957 words (5854 misses)\n",
            "Epoch 1/25\n",
            "48/48 [==============================] - 22s 386ms/step - loss: 0.6056 - accuracy: 0.6586 - val_loss: 0.3099 - val_accuracy: 0.8765\n",
            "Epoch 2/25\n",
            "48/48 [==============================] - 18s 371ms/step - loss: 0.3731 - accuracy: 0.8492 - val_loss: 0.2289 - val_accuracy: 0.9012\n",
            "Epoch 3/25\n",
            "48/48 [==============================] - 18s 369ms/step - loss: 0.2635 - accuracy: 0.8927 - val_loss: 0.1822 - val_accuracy: 0.9383\n",
            "Epoch 4/25\n",
            "48/48 [==============================] - 18s 370ms/step - loss: 0.2177 - accuracy: 0.9165 - val_loss: 0.3403 - val_accuracy: 0.8765\n",
            "Epoch 5/25\n",
            "48/48 [==============================] - 18s 368ms/step - loss: 0.2242 - accuracy: 0.9203 - val_loss: 1.3460 - val_accuracy: 0.2840\n",
            "Epoch 6/25\n",
            "48/48 [==============================] - 18s 375ms/step - loss: 0.3795 - accuracy: 0.8390 - val_loss: 0.1773 - val_accuracy: 0.9383\n",
            "Epoch 7/25\n",
            "48/48 [==============================] - 20s 415ms/step - loss: 0.2006 - accuracy: 0.9310 - val_loss: 0.2517 - val_accuracy: 0.8889\n",
            "Epoch 8/25\n",
            "48/48 [==============================] - 18s 371ms/step - loss: 0.1284 - accuracy: 0.9556 - val_loss: 0.1111 - val_accuracy: 0.9630\n",
            "Epoch 9/25\n",
            "48/48 [==============================] - 18s 372ms/step - loss: 0.1083 - accuracy: 0.9636 - val_loss: 0.0853 - val_accuracy: 0.9630\n",
            "Epoch 10/25\n",
            "48/48 [==============================] - 18s 380ms/step - loss: 0.0865 - accuracy: 0.9718 - val_loss: 0.1026 - val_accuracy: 0.9753\n",
            "Epoch 11/25\n",
            "48/48 [==============================] - 18s 376ms/step - loss: 0.0854 - accuracy: 0.9759 - val_loss: 0.0636 - val_accuracy: 0.9630\n",
            "Epoch 12/25\n",
            "48/48 [==============================] - 18s 372ms/step - loss: 0.0542 - accuracy: 0.9835 - val_loss: 0.0515 - val_accuracy: 1.0000\n",
            "Epoch 13/25\n",
            "48/48 [==============================] - 18s 373ms/step - loss: 0.0458 - accuracy: 0.9870 - val_loss: 0.0523 - val_accuracy: 1.0000\n",
            "Epoch 14/25\n",
            "48/48 [==============================] - 18s 372ms/step - loss: 0.0403 - accuracy: 0.9873 - val_loss: 0.0459 - val_accuracy: 1.0000\n",
            "Epoch 15/25\n",
            "48/48 [==============================] - 18s 372ms/step - loss: 0.0215 - accuracy: 0.9947 - val_loss: 0.0167 - val_accuracy: 1.0000\n",
            "Epoch 16/25\n",
            "48/48 [==============================] - 18s 373ms/step - loss: 0.0120 - accuracy: 0.9977 - val_loss: 0.0074 - val_accuracy: 1.0000\n",
            "Epoch 17/25\n",
            "48/48 [==============================] - 18s 372ms/step - loss: 0.0076 - accuracy: 0.9994 - val_loss: 0.0170 - val_accuracy: 1.0000\n",
            "Epoch 18/25\n",
            "48/48 [==============================] - 18s 376ms/step - loss: 0.0203 - accuracy: 0.9952 - val_loss: 0.0721 - val_accuracy: 1.0000\n",
            "Epoch 19/25\n",
            "48/48 [==============================] - 18s 377ms/step - loss: 0.0240 - accuracy: 0.9960 - val_loss: 0.0330 - val_accuracy: 1.0000\n",
            "Epoch 20/25\n",
            "48/48 [==============================] - 18s 377ms/step - loss: 0.0197 - accuracy: 0.9965 - val_loss: 0.0083 - val_accuracy: 1.0000\n",
            "Epoch 21/25\n",
            "48/48 [==============================] - 18s 373ms/step - loss: 0.0049 - accuracy: 1.0000 - val_loss: 0.0030 - val_accuracy: 1.0000\n",
            "Epoch 22/25\n",
            "48/48 [==============================] - 18s 373ms/step - loss: 0.0022 - accuracy: 1.0000 - val_loss: 0.0029 - val_accuracy: 1.0000\n",
            "Epoch 23/25\n",
            "48/48 [==============================] - 18s 375ms/step - loss: 0.0016 - accuracy: 1.0000 - val_loss: 0.0020 - val_accuracy: 1.0000\n",
            "Epoch 24/25\n",
            "48/48 [==============================] - 18s 375ms/step - loss: 0.0012 - accuracy: 1.0000 - val_loss: 0.0016 - val_accuracy: 1.0000\n",
            "Epoch 25/25\n",
            "48/48 [==============================] - 18s 375ms/step - loss: 0.0011 - accuracy: 1.0000 - val_loss: 0.0016 - val_accuracy: 1.0000\n"
          ],
          "name": "stdout"
        }
      ]
    },
    {
      "cell_type": "code",
      "metadata": {
        "colab": {
          "base_uri": "https://localhost:8080/"
        },
        "id": "ouROZsNXLb1l",
        "outputId": "b5812c41-51f1-4281-b9ff-bba6810ac8fa"
      },
      "source": [
        "text = df['text'][9]\n",
        "print(generate_prediction(text,model,tokenizer,input_len))"
      ],
      "execution_count": 22,
      "outputs": [
        {
          "output_type": "stream",
          "text": [
            "[[8.6009976e-08]]\n"
          ],
          "name": "stdout"
        }
      ]
    },
    {
      "cell_type": "code",
      "metadata": {
        "id": "ZEP_W5qeiuY2"
      },
      "source": [
        "test_data_path = 'drive/MyDrive/ZS_Data_Science_Challenge/dataset/test.csv'\n",
        "dftest = pd.read_csv(test_data_path)"
      ],
      "execution_count": 23,
      "outputs": []
    },
    {
      "cell_type": "code",
      "metadata": {
        "id": "Q4Kw1rTnjBT-"
      },
      "source": [
        "dftest['text'] = dftest[input_col].apply(lambda x:clean_text(x))\n",
        "text_list = list(map(str,dftest['text'].values))\n",
        "pred = generate_prediction_from_list(text_list,model,tokenizer,input_len)"
      ],
      "execution_count": 24,
      "outputs": []
    },
    {
      "cell_type": "code",
      "metadata": {
        "id": "2Ut_yt1BjoDz"
      },
      "source": [
        "dftest[target_col] = pred\n",
        "dfnew = dftest[['Index',target_col]]\n",
        "dfnew.to_csv('submission_2.csv',index=False)"
      ],
      "execution_count": 26,
      "outputs": []
    },
    {
      "cell_type": "code",
      "metadata": {
        "colab": {
          "base_uri": "https://localhost:8080/",
          "height": 369
        },
        "id": "GpEdFZ1O63XL",
        "outputId": "c8eff15d-ccf0-4a39-c704-26402f9281d9"
      },
      "source": [
        "tf.keras.utils.plot_model(model)"
      ],
      "execution_count": 27,
      "outputs": [
        {
          "output_type": "execute_result",
          "data": {
            "image/png": "[encoded data removed]",
            "text/plain": [
              "<IPython.core.display.Image object>"
            ]
          },
          "metadata": {
            "tags": []
          },
          "execution_count": 27
        }
      ]
    }
  ]
}